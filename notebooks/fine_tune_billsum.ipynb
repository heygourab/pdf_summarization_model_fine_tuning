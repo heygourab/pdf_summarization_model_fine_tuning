{
 "cells": [
  {
   "cell_type": "markdown",
   "id": "c206dd2a",
   "metadata": {},
   "source": [
    "# Fine-Tune Flan-T5-base on BillSum\n",
    "Author: Gourab S.(heygourab),\n",
    "github: https://github.com/heygourab\n",
    "\n",
    "This notebook fine-tunes Flan-T5-base with LoRA on the BillSum dataset (~800 samples) for legal document summarization. Outputs a LoRA adapter (`lora_billsum`) and a `training_report.json` via RogerReportCallback.\n",
    "\n",
    "The model is trained for 3 epochs with a batch size of 16 and a learning rate of 2e-4.\n",
    "The model is saved in the `lora_billsum` directory."
   ]
  },
  {
   "cell_type": "markdown",
   "id": "2bc5d042",
   "metadata": {},
   "source": [
    "## For macOS M1/Apple Silicon\n",
    "Drop this cell into your Jupyter Notebook (assuming venv is active and you're not using Colab):"
   ]
  },
  {
   "cell_type": "code",
   "execution_count": 1,
   "id": "931c111e",
   "metadata": {},
   "outputs": [
    {
     "name": "stdout",
     "output_type": "stream",
     "text": [
      "Note: you may need to restart the kernel to use updated packages.\n"
     ]
    }
   ],
   "source": [
    "%pip install -r ../requirements/mac.txt -q"
   ]
  },
  {
   "cell_type": "code",
   "execution_count": 1,
   "id": "9f0ec670",
   "metadata": {},
   "outputs": [
    {
     "name": "stderr",
     "output_type": "stream",
     "text": [
      "/Users/gourabsarkar/Developer/college_project/pdf_summarization_model_fine_tuning/.venv/lib/python3.10/site-packages/tqdm/auto.py:21: TqdmWarning: IProgress not found. Please update jupyter and ipywidgets. See https://ipywidgets.readthedocs.io/en/stable/user_install.html\n",
      "  from .autonotebook import tqdm as notebook_tqdm\n"
     ]
    }
   ],
   "source": [
    "# imports \n",
    "import os\n",
    "import json\n",
    "import logging\n",
    "import sys\n",
    "from datetime import datetime\n",
    "from typing import Dict\n",
    "import torch\n",
    "from datasets import load_dataset, Dataset, DatasetDict\n",
    "from transformers import (\n",
    "    AutoTokenizer, AutoModelForSeq2SeqLM, Seq2SeqTrainer, Seq2SeqTrainingArguments,\n",
    "    DataCollatorForSeq2Seq, TrainerCallback\n",
    ")\n",
    "from peft import LoraConfig, get_peft_model, TaskType\n",
    "from accelerate import Accelerator\n",
    "import evaluate\n",
    "from omegaconf import OmegaConf\n",
    "import pandas as pd\n",
    "import matplotlib.pyplot as plt\n",
    "import psutil\n"
   ]
  },
  {
   "cell_type": "markdown",
   "id": "358b8833",
   "metadata": {},
   "source": [
    "### Setup logger\n",
    "Sets up logging to track training progress and debugging information. The logger is configured to:\n",
    "- Display timestamp, log level, and message\n",
    "- Output logs to standard output (stdout)\n",
    "- Use INFO level logging\n",
    "- Create a logger instance named after the current module"
   ]
  },
  {
   "cell_type": "code",
   "execution_count": 2,
   "id": "646c33ba",
   "metadata": {},
   "outputs": [],
   "source": [
    "# Logging setup\n",
    "logging.basicConfig(\n",
    "    level=logging.INFO,\n",
    "    format='%(asctime)s - %(levelname)s - %(message)s',\n",
    "    handlers=[logging.StreamHandler(sys.stdout)]\n",
    ")\n",
    "logger = logging.getLogger(__name__)"
   ]
  },
  {
   "cell_type": "markdown",
   "id": "af93ecb3",
   "metadata": {},
   "source": [
    "## Memory Usage Monitoring\n",
    "The `print_memory_usage()` function monitors system resource utilization during model training:\n",
    "\n",
    "- Tracks RAM usage by getting the Resident Set Size (RSS) of current process in GB\n",
    "- For GPU-enabled systems:\n",
    "    - Reports allocated GPU memory\n",
    "    - Shows total available GPU memory\n",
    "    - Calculates percentage of GPU memory utilization\n",
    "    - Resets peak memory tracking statistics\n",
    "\n",
    "This helps identify potential memory bottlenecks and optimize resource usage during training."
   ]
  },
  {
   "cell_type": "code",
   "execution_count": 5,
   "id": "ff63c13c",
   "metadata": {},
   "outputs": [],
   "source": [
    "# Memory usage\n",
    "def print_memory_usage():\n",
    "    process = psutil.Process(os.getpid()) # Get current process\n",
    "    # Get memory usage in GB\n",
    "    ram_gb = process.memory_info().rss / 1e9\n",
    "    # Get total memory in GB\n",
    "    total_gb = psutil.virtual_memory().total / 1e9\n",
    "    # Print memory usage\n",
    "    logger.info(f\"RAM usage: {ram_gb:.2f} GB\")\n",
    "    logger.info(f\"Total memory: {total_gb:.2f} GB\")\n",
    "\n",
    "    # if running on GPU, print GPU memory usage\n",
    "    if torch.cuda.is_available():\n",
    "        gpu_mem = torch.cuda.memory_allocated() / 1e9\n",
    "        gpu_total = torch.cuda.get_device_properties(0).total_memory / 1e9\n",
    "        logger.info(f\"GPU memory: {gpu_mem:.2f}/{gpu_total:.2f} GB ({gpu_mem/gpu_total*100:.1f}%)\")\n",
    "        torch.cuda.reset_peak_memory_stats()"
   ]
  },
  {
   "cell_type": "code",
   "execution_count": 7,
   "id": "c0e3025a",
   "metadata": {},
   "outputs": [
    {
     "name": "stdout",
     "output_type": "stream",
     "text": [
      "2025-05-15 16:55:56,541 - INFO - RAM usage: 0.03 GB\n",
      "2025-05-15 16:55:56,543 - INFO - Total memory: 8.59 GB\n"
     ]
    }
   ],
   "source": [
    "# Testing memory usage\n",
    "print_memory_usage()"
   ]
  }
 ],
 "metadata": {
  "kernelspec": {
   "display_name": ".venv",
   "language": "python",
   "name": "python3"
  },
  "language_info": {
   "codemirror_mode": {
    "name": "ipython",
    "version": 3
   },
   "file_extension": ".py",
   "mimetype": "text/x-python",
   "name": "python",
   "nbconvert_exporter": "python",
   "pygments_lexer": "ipython3",
   "version": "3.10.17"
  }
 },
 "nbformat": 4,
 "nbformat_minor": 5
}
